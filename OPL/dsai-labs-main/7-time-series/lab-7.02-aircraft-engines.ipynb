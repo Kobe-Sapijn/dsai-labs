{
  "cells": [
    {
      "cell_type": "markdown",
      "metadata": {
        "id": "ifLP6PF2VNyG"
      },
      "source": [
        "# Lab 7.02 - Time series analysis"
      ]
    },
    {
      "cell_type": "code",
      "execution_count": 1,
      "metadata": {
        "id": "PwYaTAjzVNyI"
      },
      "outputs": [],
      "source": [
        "#  Package imports for data science and time series analysis in particular\n",
        "import numpy as np                                  # \"Scientific computing\"\n",
        "import pandas as pd                                 # Dataframe\n",
        "import scipy.stats as stats                         # Statistical tests\n",
        "\n",
        "import matplotlib.pyplot as plt                     # Basic visualisation\n",
        "import seaborn as sns                               # Advanced dataviz\n",
        "\n",
        "from sklearn.linear_model import LinearRegression   # Linear regression model\n",
        "\n",
        "# Time series analysis\n",
        "from datetime import datetime\n",
        "from sklearn.metrics import mean_absolute_error,mean_squared_error\n",
        "from statsmodels.tsa.api import Holt\n",
        "from statsmodels.tsa.holtwinters import ExponentialSmoothing\n",
        "from statsmodels.tsa.seasonal import seasonal_decompose"
      ]
    },
    {
      "cell_type": "markdown",
      "metadata": {
        "id": "z8e3JogMwQLG"
      },
      "source": [
        "## Exercise 2 - aircraft engines\n",
        "\n",
        "You have been assigned to forecast the number of aircraft engines ordered each month from an engine manufacturing company. At the end of February, the\n",
        "forecast is that 100 engines will be ordered during April.\n",
        "Then during March, 120 engines are actually ordered.  \n",
        "Using $\\alpha$ = 0.3, determine a forecast (at the end of March) for the number of orders placed during April and during May. Use simple exponential\n",
        "smoothing.  \n",
        "These are the appropriate formulae\n",
        "\n",
        "$X_t = \\alpha x_t + (1 - \\alpha) X_{t-1}$\n",
        "\n",
        "$F_{t+m} = X_t$"
      ]
    },
    {
      "cell_type": "code",
      "execution_count": 2,
      "metadata": {},
      "outputs": [
        {
          "name": "stdout",
          "output_type": "stream",
          "text": [
            "Forecast for April: 106.0\n",
            "Forecast for May: 106.0\n"
          ]
        }
      ],
      "source": [
        "alpha = 0.3\n",
        "X_prev = 100       # forecast at end of February for April\n",
        "x_t = 120          # actual orders in March\n",
        "\n",
        "# New smoothed value\n",
        "X_t = alpha * x_t + (1 - alpha) * X_prev\n",
        "\n",
        "# Forecasts\n",
        "forecast_april = X_t\n",
        "forecast_may = X_t\n",
        "\n",
        "print(f\"Forecast for April: {forecast_april}\")\n",
        "print(f\"Forecast for May: {forecast_may}\")\n"
      ]
    },
    {
      "cell_type": "markdown",
      "metadata": {
        "id": "OzaYuRuogzWf"
      },
      "source": [
        "## Source\n",
        "Business Analytics Data Analysis & Decision Making "
      ]
    }
  ],
  "metadata": {
    "colab": {
      "provenance": []
    },
    "kernelspec": {
      "display_name": "Python 3",
      "language": "python",
      "name": "python3"
    },
    "language_info": {
      "codemirror_mode": {
        "name": "ipython",
        "version": 3
      },
      "file_extension": ".py",
      "mimetype": "text/x-python",
      "name": "python",
      "nbconvert_exporter": "python",
      "pygments_lexer": "ipython3",
      "version": "3.12.4"
    },
    "orig_nbformat": 4
  },
  "nbformat": 4,
  "nbformat_minor": 0
}
