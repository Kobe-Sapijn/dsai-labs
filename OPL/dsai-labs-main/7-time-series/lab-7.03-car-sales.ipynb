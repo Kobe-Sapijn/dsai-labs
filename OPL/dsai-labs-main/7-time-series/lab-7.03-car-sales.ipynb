{
  "cells": [
    {
      "cell_type": "markdown",
      "metadata": {
        "id": "ifLP6PF2VNyG"
      },
      "source": [
        "# Lab 7.03 - Time series analysis"
      ]
    },
    {
      "cell_type": "code",
      "execution_count": null,
      "metadata": {
        "id": "PwYaTAjzVNyI"
      },
      "outputs": [],
      "source": [
        "# Package imports"
      ]
    },
    {
      "cell_type": "markdown",
      "metadata": {
        "id": "nsaevyk8itxA"
      },
      "source": [
        "## Exercise 3 - Car sales\n",
        "\n",
        "An automobile dealer is using Holt's method to\n",
        "forecast weekly car sales. Currently, the level is\n",
        "estimated to be 50 cars per week, and the trend is\n",
        "estimated to be six cars per week. During the current\n",
        "week, 30 cars are sold. After observing the current\n",
        "week's sales, forecast the number of cars three weeks\n",
        "from now. Use $α = $β = 0.3.\n",
        "\n",
        "These are the appropriate formulae\n",
        "\n",
        "$X_{t} = \\alpha x_{t} + (1-\\alpha)(X_{t-1} + b_{t-1})$\n",
        "\n",
        "$b_{t} = \\beta(X_{t}-X_{t-1}) + (1-\\beta)b_{t-1}$\n",
        "\n",
        "$F_{t+m} = X_t + mb_t$"
      ]
    },
    {
      "cell_type": "code",
      "execution_count": 1,
      "metadata": {},
      "outputs": [
        {
          "name": "stdout",
          "output_type": "stream",
          "text": [
            "Updated level: 48.20\n",
            "Updated trend: 3.66\n",
            "Forecast for t+3: 59.18\n"
          ]
        }
      ],
      "source": [
        "alpha = 0.3\n",
        "beta = 0.3\n",
        "\n",
        "X_prev = 50      # previous level\n",
        "b_prev = 6       # previous trend\n",
        "x_t = 30         # actual sales this week\n",
        "\n",
        "# Update level\n",
        "X_t = alpha * x_t + (1 - alpha) * (X_prev + b_prev)\n",
        "\n",
        "# Update trend\n",
        "b_t = beta * (X_t - X_prev) + (1 - beta) * b_prev\n",
        "\n",
        "# Forecast 3 weeks ahead\n",
        "forecast_t3 = X_t + 3 * b_t\n",
        "\n",
        "print(f\"Updated level: {X_t:.2f}\")\n",
        "print(f\"Updated trend: {b_t:.2f}\")\n",
        "print(f\"Forecast for t+3: {forecast_t3:.2f}\")\n"
      ]
    },
    {
      "cell_type": "markdown",
      "metadata": {
        "id": "OzaYuRuogzWf"
      },
      "source": [
        "## Source\n",
        "Business Analytics Data Analysis & Decision Making "
      ]
    }
  ],
  "metadata": {
    "colab": {
      "provenance": []
    },
    "kernelspec": {
      "display_name": "Python 3",
      "language": "python",
      "name": "python3"
    },
    "language_info": {
      "codemirror_mode": {
        "name": "ipython",
        "version": 3
      },
      "file_extension": ".py",
      "mimetype": "text/x-python",
      "name": "python",
      "nbconvert_exporter": "python",
      "pygments_lexer": "ipython3",
      "version": "3.12.4"
    },
    "orig_nbformat": 4
  },
  "nbformat": 4,
  "nbformat_minor": 0
}
