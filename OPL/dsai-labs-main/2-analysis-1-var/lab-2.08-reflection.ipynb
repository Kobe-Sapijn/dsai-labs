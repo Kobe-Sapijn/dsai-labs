{
 "cells": [
  {
   "attachments": {},
   "cell_type": "markdown",
   "metadata": {},
   "source": [
    "# Lab 2.08 - Univariate Analysis: Reflection exercises\n",
    "\n",
    "## Exercise 8.1 - retrieval practice: analysis of 1 variable\n",
    "\n",
    "Use the procedure for retrieval practice from the similar exercises in Module 1 to study the techniques for analysis and visualization of a single variable.\n",
    "\n",
    "For each measurement level, provide:\n",
    "\n",
    "- The appropriate measures for central tendency and dispersion (name, definitions and formulas)\n",
    "- The appropriate graph types\n",
    "\n",
    "\n",
    "| **Measurement Level** | **Central Tendency**                                                                    | **Dispersion**                                                                             | **Graph Types**                                     |\n",
    "| --------------------- | --------------------------------------------------------------------------------------- | ------------------------------------------------------------------------------------------ | --------------------------------------------------- |\n",
    "| **Nominaal**          | **Modus**: meest voorkomende categorie                                                  | Geen (dispersion is niet zinvol)                                                           | Staafdiagram (bar chart), Cirkeldiagram (pie chart) |\n",
    "| **Ordinaal**          | **Mediaan**: middelste waarde bij geordende data<br>**Modus**: meest voorkomende waarde | **Bereik**: verschil tussen hoogste en laagste rang<br>**Percentielen** of IQR             | Staafdiagram, Gesorteerde staafdiagram              |\n",
    "| **Interval**          | **Gemiddelde**: som van waarden gedeeld door aantal<br>**Mediaan**, **Modus**           | **Standaarddeviatie**: spreiding rond het gemiddelde<br>**Variantie**, **Bereik**, **IQR** | Histogram, Boxplot, Density plot                    |\n",
    "| **Ratio**             | Idem als interval (gemiddelde, mediaan, modus), **maar met absoluut nulpunt**           | Idem als interval (standaarddeviatie, variantie, bereik, IQR)                              | Histogram, Boxplot, Density plot, Staafdiagram      |\n",
    "\n",
    "## Definities en Formules\n",
    "\n",
    "- **Gemiddelde (Mean):**  \n",
    "  $$\\bar{x} = \\frac{1}{n} \\sum_{i=1}^{n} x_i$$\n",
    "\n",
    "- **Mediaan (Median):**  \n",
    "  Middelste waarde bij gesorteerde data (of het gemiddelde van de twee middelste waarden als het aantal gegevenspunten even is).\n",
    "\n",
    "- **Modus (Mode):**  \n",
    "  Waarde die het vaakst voorkomt in de dataset.\n",
    "\n",
    "- **Bereik (Range):**  \n",
    "  $$\\text{Range} = \\max(x) - \\min(x)$$\n",
    "\n",
    "- **Interkwartielafstand (IQR):**  \n",
    "  $$\\text{IQR} = Q3 - Q1$$  \n",
    "  waarbij \\(Q1\\) het 25e percentiel is en \\(Q3\\) het 75e percentiel.\n",
    "\n",
    "- **Standaarddeviatie (Sample Standard Deviation):**  \n",
    "  $$s = \\sqrt{\\frac{1}{n-1} \\sum_{i=1}^n (x_i - \\bar{x})^2}$$\n",
    "\n",
    "- **Variantie (Sample Variance):**  \n",
    "  $$s^2 = \\frac{1}{n-1} \\sum_{i=1}^n (x_i - \\bar{x})^2$$\n",
    "\n"
   ]
  },
  {
   "cell_type": "markdown",
   "metadata": {},
   "source": [
    "## Exercise 8.2 - sample mean and sample variance of a frequency table\n",
    "\n",
    "Consider the formulas for the sample mean $\\overline{x}$, the sample variance $s^2$ and the standard deviation $s$. How should these formulas be adapted to calculate these values when we are dealing with a frequency table? A frequency table gives an overview of how often each different value (of a qualitative variable) occurs in the sample.\n",
    "\n",
    "Apply your formula to the data in the table below:\n",
    "\n",
    "| Pins $s$ | Frequency $f_x$ |\n",
    "| :------: | :-------------: |\n",
    "|    0     |        2        |\n",
    "|    1     |        1        |\n",
    "|    2     |        2        |\n",
    "|    3     |        0        |\n",
    "|    4     |        2        |\n",
    "|    5     |        4        |\n",
    "|    6     |        9        |\n",
    "|    7     |       11        |\n",
    "|    8     |       13        |\n",
    "|    9     |        8        |\n",
    "|    10    |        8        |\n",
    "\n",
    "*While playing a skittles game, the number of pins that were knocked over with each throw is recorded. For each possible score x, the number of times this score was obtained during a throw was recorded.*\n",
    "\n",
    "**Results (for your convenience):** $n = 60$, mean = 7, variance ≈ 5.83, standard deviation ≈ 2.41"
   ]
  },
  {
   "cell_type": "code",
   "execution_count": 1,
   "metadata": {},
   "outputs": [
    {
     "name": "stdout",
     "output_type": "stream",
     "text": [
      "Sample size (n): 60\n",
      "Sample mean: 7.00\n",
      "Sample variance: 5.83\n",
      "Sample standard deviation: 2.41\n"
     ]
    }
   ],
   "source": [
    "import numpy as np\n",
    "import pandas as pd\n",
    "\n",
    "# Data\n",
    "data = {\n",
    "    'Pins': np.arange(0, 11),\n",
    "    'Frequency': [2, 1, 2, 0, 2, 4, 9, 11, 13, 8, 8]\n",
    "}\n",
    "\n",
    "df = pd.DataFrame(data)\n",
    "\n",
    "# Totale aantal observaties\n",
    "n = df['Frequency'].sum()\n",
    "\n",
    "# Sample mean\n",
    "mean = (df['Pins'] * df['Frequency']).sum() / n\n",
    "\n",
    "# Sample variance\n",
    "variance = ((df['Frequency'] * (df['Pins'] - mean)**2).sum()) / (n - 1)\n",
    "\n",
    "# Sample standard deviation\n",
    "std_dev = np.sqrt(variance)\n",
    "\n",
    "print(f\"Sample size (n): {n}\")\n",
    "print(f\"Sample mean: {mean:.2f}\")\n",
    "print(f\"Sample variance: {variance:.2f}\")\n",
    "print(f\"Sample standard deviation: {std_dev:.2f}\")\n"
   ]
  },
  {
   "attachments": {},
   "cell_type": "markdown",
   "metadata": {},
   "source": [
    "## Exercise 8.3 - formula for sample variance\n",
    "\n",
    "In the formula for the sample variance, the difference between the measurement values and the mean is squared. Why? Couldn't we devise a simpler formula that is an equally good measure of the dispersion of a dataset? Here are three proposals (the third one is the \"real\" formula):\n",
    "\n",
    "1. $s_{1}^{2} = \\frac{1}{n-1} \\sum_{i=1}^{n} (\\overline{x} - x_i)$\n",
    "2. $s_{2}^{2} = \\frac{1}{n-1} \\sum_{i=1}^{n} \\left| \\overline{x} - x_i\\right|$\n",
    "3. $s_{3}^{2} = \\frac{1}{n-1} \\sum_{i=1}^{n} (\\overline{x} - x_i)^{2}$\n",
    "\n",
    "Apply each formula to the two data sets below. By comparing the results, you should be able to decide whether the formulas are suitable as a dispersion measure.\n",
    "\n",
    "- $X = \\left\\{ 4,4,-4,-4 \\right\\}$\n",
    "- $Y = \\left\\{ 7,1,-6,-2 \\right\\}$"
   ]
  },
  {
   "attachments": {},
   "cell_type": "markdown",
   "metadata": {},
   "source": [
    "## Exercise 8.4 - data visualisation hall of shame\n",
    "\n",
    "Look for examples of bad graphs in news reports, articles, interest group publications, etc.\n",
    "\n",
    "Why is the chosen graph \"bad\"? What mistakes are being made? What changes should be made to correct the graph? Who will find the most ridiculous example of a bad graph within the class group?"
   ]
  }
 ],
 "metadata": {
  "kernelspec": {
   "display_name": "Python 3",
   "language": "python",
   "name": "python3"
  },
  "language_info": {
   "codemirror_mode": {
    "name": "ipython",
    "version": 3
   },
   "file_extension": ".py",
   "mimetype": "text/x-python",
   "name": "python",
   "nbconvert_exporter": "python",
   "pygments_lexer": "ipython3",
   "version": "3.12.4"
  },
  "orig_nbformat": 4
 },
 "nbformat": 4,
 "nbformat_minor": 2
}
