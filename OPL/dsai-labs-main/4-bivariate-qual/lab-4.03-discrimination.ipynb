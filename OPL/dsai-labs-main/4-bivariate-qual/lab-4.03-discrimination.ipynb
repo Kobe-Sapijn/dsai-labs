{
  "cells": [
    {
      "cell_type": "markdown",
      "metadata": {
        "id": "xDBTRYzLSeM_"
      },
      "source": [
        "# Lab 4.03 - Bivariate Analysis of Qualitative Data\n"
      ]
    },
    {
      "cell_type": "code",
      "execution_count": null,
      "metadata": {
        "id": "j8I-eUfMSeNF"
      },
      "outputs": [],
      "source": [
        "# Importing the necessary packages\n",
        "import numpy as np                                  # \"Scientific computing\"\n",
        "import scipy.stats as stats                         # Statistical tests\n",
        "\n",
        "import pandas as pd                                 # Data Frame\n",
        "from pandas.api.types import CategoricalDtype\n",
        "\n",
        "import matplotlib.pyplot as plt                     # Basic visualisation\n",
        "from statsmodels.graphics.mosaicplot import mosaic  # Mosaic diagram\n",
        "import seaborn as sns                               # Advanced data visualisation"
      ]
    },
    {
      "cell_type": "markdown",
      "metadata": {
        "id": "YBt7tOyqovNc"
      },
      "source": [
        "## Exercise 3 - Discrimination in schoolteacher hiring\n",
        "\n",
        "African Americans in a St. Louis suburb sued the city \n",
        "claiming they were discriminated against in schoolteacher hiring. Of the city's population, 5.7% were \n",
        "African American; of 405 teachers in the school system, 15 were African American. Set up appropriate \n",
        "hypotheses and determine whether African Americans \n",
        "are underrepresented.  \n",
        "Calculate the standardized residuals. \n",
        "\n",
        "Results of the main calculations:\n",
        "- Chi-squared        χ² = 3.0027\n",
        "- Critical value      g = 3.8415\n",
        "- p-value             p = 0.0831\n",
        "- standardized residuals for african american = -1.7328 > - 2"
      ]
    },
    {
      "cell_type": "code",
      "execution_count": 6,
      "metadata": {
        "id": "VxX_Gzrustbn"
      },
      "outputs": [
        {
          "name": "stdout",
          "output_type": "stream",
          "text": [
            "Chi-squared        χ² = 3.0027\n",
            "Critical value      g = 3.8415\n",
            "p-value             p = 0.0831\n",
            "Standardized residual for African American = -1.6827\n"
          ]
        }
      ],
      "source": [
        "from scipy import stats\n",
        "import numpy as np\n",
        "\n",
        "# Gegeven waarden\n",
        "n = 405\n",
        "observed = np.array([15, 390])\n",
        "expected = np.array([0.057 * n, 0.943 * n])\n",
        "alpha = 0.05\n",
        "dof = len(observed) - 1  # 2 - 1 = 1\n",
        "\n",
        "# Chi-square test\n",
        "chi2, p = stats.chisquare(f_obs=observed, f_exp=expected)\n",
        "\n",
        "# Kritieke waarde g\n",
        "g = stats.chi2.isf(alpha, df=dof)\n",
        "\n",
        "# Gestandaardiseerde residu voor African American\n",
        "std_residual = (observed[0] - expected[0]) / np.sqrt(expected[0])\n",
        "\n",
        "# Print de resultaten\n",
        "print(f\"Chi-squared        χ² = {chi2:.4f}\")\n",
        "print(f\"Critical value      g = {g:.4f}\")\n",
        "print(f\"p-value             p = {p:.4f}\")\n",
        "print(f\"Standardized residual for African American = {std_residual:.4f}\")\n"
      ]
    },
    {
      "cell_type": "code",
      "execution_count": 7,
      "metadata": {
        "id": "V20Cup7Istbo"
      },
      "outputs": [
        {
          "name": "stdout",
          "output_type": "stream",
          "text": [
            "Significance level  ⍺ = 0.05\n",
            "Sample size         n = 405\n",
            "k = 2; df = 1\n",
            "Chi-squared        χ² = 3.0027\n",
            "Critical value      g = 3.8415\n",
            "p-value             p = 0.0831\n",
            "[-1.73284309  1.73284309]\n"
          ]
        }
      ],
      "source": [
        "types = [\"African\",\"Other\"]\n",
        "observed = np.array([15,405-15])\n",
        "expected_p=np.array([0.057,(1-0.057)])\n",
        "alpha = 0.05\n",
        "n=sum(observed)\n",
        "k=len(observed)\n",
        "dof = k-1\n",
        "expected = expected_p * n\n",
        "\n",
        "g = stats.chi2.isf(alpha,df = dof)\n",
        "\n",
        "chi2, p = stats.chisquare(f_obs=observed, f_exp=expected)\n",
        "\n",
        "stdres = (observed - expected) / np.sqrt(expected * (1 - expected_p))\n",
        "\n",
        "\n",
        "print(\"Significance level  ⍺ = %.2f\" % alpha)\n",
        "print(\"Sample size         n = %d\" % n)\n",
        "print(\"k = %d; df = %d\" % (k, dof))\n",
        "print(\"Chi-squared        χ² = %.4f\" % chi2)\n",
        "print(\"Critical value      g = %.4f\" % g)\n",
        "print(\"p-value             p = %.4f\" % p)\n",
        "print(stdres)"
      ]
    },
    {
      "cell_type": "code",
      "execution_count": null,
      "metadata": {
        "id": "2iuZ0kBHZKJt"
      },
      "outputs": [],
      "source": []
    }
  ],
  "metadata": {
    "colab": {
      "provenance": []
    },
    "kernelspec": {
      "display_name": "Python 3",
      "language": "python",
      "name": "python3"
    },
    "language_info": {
      "codemirror_mode": {
        "name": "ipython",
        "version": 3
      },
      "file_extension": ".py",
      "mimetype": "text/x-python",
      "name": "python",
      "nbconvert_exporter": "python",
      "pygments_lexer": "ipython3",
      "version": "3.12.4"
    },
    "orig_nbformat": 4
  },
  "nbformat": 4,
  "nbformat_minor": 0
}
