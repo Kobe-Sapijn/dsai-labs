{
  "cells": [
    {
      "cell_type": "markdown",
      "metadata": {
        "id": "xDBTRYzLSeM_"
      },
      "source": [
        "# Lab 4.05 - Bivariate Analysis of Qualitative Data\n"
      ]
    },
    {
      "cell_type": "code",
      "execution_count": 3,
      "metadata": {
        "id": "j8I-eUfMSeNF"
      },
      "outputs": [],
      "source": [
        "# Importing the necessary packages\n",
        "import numpy as np                                  # \"Scientific computing\"\n",
        "import scipy.stats as stats                         # Statistical tests\n",
        "\n",
        "import pandas as pd                                 # Data Frame\n",
        "from pandas.api.types import CategoricalDtype\n",
        "\n",
        "import matplotlib.pyplot as plt                     # Basic visualisation\n",
        "from statsmodels.graphics.mosaicplot import mosaic  # Mosaic diagram\n",
        "import seaborn as sns                               # Advanced data visualisation"
      ]
    },
    {
      "cell_type": "markdown",
      "metadata": {
        "id": "0JrAljj350Yf"
      },
      "source": [
        "## Exercise 5 - Survey of Australian Students\n",
        "\n",
        "Load the data file data/survey.csv. It contains the result of a survey of students from an Australian university.\n",
        "\n",
        "We want to investigate the relationship between some discrete (nominal or ordinal) variables in this dataset. For any pairs of variables listed below, follow these steps:\n",
        "\n",
        "* First, think about what exactly you expect for the given combination of variables.\n",
        "* Make a frequency table for the two variables. The (presumably) independent variable comes first.\n",
        "* Plot a graph visualizing the relationship between the two variables.\n",
        "- Looking at the chart, do you expect a rather high or rather low value for the $\\chi^2$ statistic? Why?\n",
        "* Run the $\\chi^2$ test to determine whether there is a relationship between the two variables. Calculate the $\\chi^2$ statistic, the critical limit $g$ and the $p$ value, each for significance level $\\alpha = 0.05$.\n",
        "* Should we accept or reject the null hypothesis? What exactly does that mean for the relationship between the two variables? In other words, formulate an answer to the research question.\n",
        "* Calculate Cramér's V. Do you come to a similar conclusion as with the $\\chi^2$ test?\n",
        "\n",
        "\n",
        "The variables to be investigated:\n",
        "\n",
        "| Independent variabele          | Dependent variabele                        |\n",
        "|:------------------------------ |:-------------------------------------------|\n",
        "| `Exer` (practicing sports)     | `Smoke`                                    |\n",
        "| `Sex` (gender)                 | `Smoke`                                    |\n",
        "| `W.Hnd` (dominant hand)        | `Fold` (top hand when you cross your arms) |\n",
        "| `Sex`                          | `W.Hnd`                                    |\n",
        "\n",
        "Results of the main calculations (rounded up to 3 decimal places):\n",
        "\n",
        "- `Exer/Smoke`: χ² ≈ 5.489, g ≈ 12.592, p ≈ 0.483\n",
        "- `W.Hnd/Fold`: χ² ≈ 1.581, g ≈ 5.992, p ≈ 0.454\n",
        "- `Sex/Smoke`: χ² ≈ 3.554, g ≈ 7.815, p ≈ 0.314\n",
        "- `Sex/W.Hnd`: χ² ≈ 0.236, g ≈ 3.842, p ≈ 0.627"
      ]
    },
    {
      "cell_type": "markdown",
      "metadata": {
        "id": "xLnXDNr2ULo_"
      },
      "source": [
        "Read the dataset."
      ]
    },
    {
      "cell_type": "code",
      "execution_count": 4,
      "metadata": {
        "id": "PImy42Ev_nfl"
      },
      "outputs": [
        {
          "data": {
            "text/html": [
              "<div>\n",
              "<style scoped>\n",
              "    .dataframe tbody tr th:only-of-type {\n",
              "        vertical-align: middle;\n",
              "    }\n",
              "\n",
              "    .dataframe tbody tr th {\n",
              "        vertical-align: top;\n",
              "    }\n",
              "\n",
              "    .dataframe thead th {\n",
              "        text-align: right;\n",
              "    }\n",
              "</style>\n",
              "<table border=\"1\" class=\"dataframe\">\n",
              "  <thead>\n",
              "    <tr style=\"text-align: right;\">\n",
              "      <th></th>\n",
              "      <th>Sex</th>\n",
              "      <th>Wr.Hnd</th>\n",
              "      <th>NW.Hnd</th>\n",
              "      <th>W.Hnd</th>\n",
              "      <th>Fold</th>\n",
              "      <th>Pulse</th>\n",
              "      <th>Clap</th>\n",
              "      <th>Exer</th>\n",
              "      <th>Smoke</th>\n",
              "      <th>Height</th>\n",
              "      <th>M.I</th>\n",
              "      <th>Age</th>\n",
              "    </tr>\n",
              "  </thead>\n",
              "  <tbody>\n",
              "    <tr>\n",
              "      <th>1</th>\n",
              "      <td>Female</td>\n",
              "      <td>18.5</td>\n",
              "      <td>18.0</td>\n",
              "      <td>Right</td>\n",
              "      <td>R on L</td>\n",
              "      <td>92.0</td>\n",
              "      <td>Left</td>\n",
              "      <td>Some</td>\n",
              "      <td>Never</td>\n",
              "      <td>173.0</td>\n",
              "      <td>Metric</td>\n",
              "      <td>18.250</td>\n",
              "    </tr>\n",
              "    <tr>\n",
              "      <th>2</th>\n",
              "      <td>Male</td>\n",
              "      <td>19.5</td>\n",
              "      <td>20.5</td>\n",
              "      <td>Left</td>\n",
              "      <td>R on L</td>\n",
              "      <td>104.0</td>\n",
              "      <td>Left</td>\n",
              "      <td>None</td>\n",
              "      <td>Regul</td>\n",
              "      <td>177.8</td>\n",
              "      <td>Imperial</td>\n",
              "      <td>17.583</td>\n",
              "    </tr>\n",
              "    <tr>\n",
              "      <th>3</th>\n",
              "      <td>Male</td>\n",
              "      <td>18.0</td>\n",
              "      <td>13.3</td>\n",
              "      <td>Right</td>\n",
              "      <td>L on R</td>\n",
              "      <td>87.0</td>\n",
              "      <td>Neither</td>\n",
              "      <td>None</td>\n",
              "      <td>Occas</td>\n",
              "      <td>NaN</td>\n",
              "      <td>NaN</td>\n",
              "      <td>16.917</td>\n",
              "    </tr>\n",
              "    <tr>\n",
              "      <th>4</th>\n",
              "      <td>Male</td>\n",
              "      <td>18.8</td>\n",
              "      <td>18.9</td>\n",
              "      <td>Right</td>\n",
              "      <td>R on L</td>\n",
              "      <td>NaN</td>\n",
              "      <td>Neither</td>\n",
              "      <td>None</td>\n",
              "      <td>Never</td>\n",
              "      <td>160.0</td>\n",
              "      <td>Metric</td>\n",
              "      <td>20.333</td>\n",
              "    </tr>\n",
              "    <tr>\n",
              "      <th>5</th>\n",
              "      <td>Male</td>\n",
              "      <td>20.0</td>\n",
              "      <td>20.0</td>\n",
              "      <td>Right</td>\n",
              "      <td>Neither</td>\n",
              "      <td>35.0</td>\n",
              "      <td>Right</td>\n",
              "      <td>Some</td>\n",
              "      <td>Never</td>\n",
              "      <td>165.0</td>\n",
              "      <td>Metric</td>\n",
              "      <td>23.667</td>\n",
              "    </tr>\n",
              "  </tbody>\n",
              "</table>\n",
              "</div>"
            ],
            "text/plain": [
              "      Sex  Wr.Hnd  NW.Hnd  W.Hnd     Fold  Pulse     Clap  Exer  Smoke  \\\n",
              "1  Female    18.5    18.0  Right   R on L   92.0     Left  Some  Never   \n",
              "2    Male    19.5    20.5   Left   R on L  104.0     Left  None  Regul   \n",
              "3    Male    18.0    13.3  Right   L on R   87.0  Neither  None  Occas   \n",
              "4    Male    18.8    18.9  Right   R on L    NaN  Neither  None  Never   \n",
              "5    Male    20.0    20.0  Right  Neither   35.0    Right  Some  Never   \n",
              "\n",
              "   Height       M.I     Age  \n",
              "1   173.0    Metric  18.250  \n",
              "2   177.8  Imperial  17.583  \n",
              "3     NaN       NaN  16.917  \n",
              "4   160.0    Metric  20.333  \n",
              "5   165.0    Metric  23.667  "
            ]
          },
          "execution_count": 4,
          "metadata": {},
          "output_type": "execute_result"
        }
      ],
      "source": [
        "survey = pd.read_csv('../data/survey.csv', keep_default_na=False, na_values=[\"NA\"], index_col=0)\n",
        "survey.Exer = survey.Exer.astype(CategoricalDtype(categories=[\"None\", \"Some\", \"Freq\"], ordered=True))\n",
        "survey.Smoke = survey.Smoke.astype(CategoricalDtype(categories=['Never', 'Occas', 'Regul', 'Heavy'], ordered=True))\n",
        "\n",
        "survey.head()"
      ]
    },
    {
      "cell_type": "markdown",
      "metadata": {
        "id": "ClPiYvicUTfi"
      },
      "source": [
        "What are the different values for Exer and Smoke?  \n",
        "Change both variables to ordinal variables with a specific order."
      ]
    },
    {
      "cell_type": "code",
      "execution_count": 5,
      "metadata": {
        "id": "XUspvasv-rn6"
      },
      "outputs": [
        {
          "data": {
            "text/plain": [
              "Exer\n",
              "Freq    115\n",
              "Some     98\n",
              "None     24\n",
              "Name: count, dtype: int64"
            ]
          },
          "execution_count": 5,
          "metadata": {},
          "output_type": "execute_result"
        }
      ],
      "source": [
        "survey.Exer.value_counts()"
      ]
    },
    {
      "cell_type": "code",
      "execution_count": 6,
      "metadata": {},
      "outputs": [
        {
          "data": {
            "text/plain": [
              "Smoke\n",
              "Never    189\n",
              "Occas     19\n",
              "Regul     17\n",
              "Heavy     11\n",
              "Name: count, dtype: int64"
            ]
          },
          "execution_count": 6,
          "metadata": {},
          "output_type": "execute_result"
        }
      ],
      "source": [
        "survey.Smoke.value_counts()"
      ]
    },
    {
      "cell_type": "markdown",
      "metadata": {
        "id": "AHYMorUvUrpF"
      },
      "source": [
        "* Make a frequency table for the two variables. The (presumably) independent variable comes first.\n",
        "* Plot a graph visualizing the relationship between the two variables.\n",
        "* Looking at the chart, do you expect a rather high or rather low value for the  χ2  statistic? Why?\n",
        "* Run the  χ2  test to determine whether there is a relationship between the two variables. Calculate the  χ2  statistic, the critical limit  g  and the  p  value, each for significance level  α=0.05 .\n",
        "* Should we accept or reject the null hypothesis? What exactly does that mean for the relationship between the two variables? In other words, formulate an answer to the research question.\n",
        "* Calculate Cramér's V. Do you come to a similar conclusion as with the  χ2  test?\n",
        "\n",
        "The variables to be investigated:\n",
        "\n",
        "| Independent variabele          | Dependent variabele                        |\n",
        "|:------------------------------ |:-------------------------------------------|\n",
        "| `Exer` (practicing sports)     | `Smoke`                                    |\n",
        "| `Sex` (gender)                 | `Smoke`                                    |\n",
        "| `W.Hnd` (dominant hand)        | `Fold` (top hand when you cross your arms) |\n",
        "| `Sex`                          | `W.Hnd`                                    |\n",
        "\n",
        "Results of the main calculations (rounded up to 3 decimal places):\n",
        "\n",
        "- `Exer/Smoke`: χ² ≈ 5.489, g ≈ 12.592, p ≈ 0.483\n",
        "- `W.Hnd/Fold`: χ² ≈ 1.581, g ≈ 5.992, p ≈ 0.454\n",
        "- `Sex/Smoke`: χ² ≈ 3.554, g ≈ 7.815, p ≈ 0.314\n",
        "- `Sex/W.Hnd`: χ² ≈ 0.236, g ≈ 3.842, p ≈ 0.627"
      ]
    },
    {
      "cell_type": "markdown",
      "metadata": {
        "id": "-ymGHckoe-KW"
      },
      "source": [
        "Exer/Smoke: χ² ≈ 5.489, g ≈ 12.592, p ≈ 0.483"
      ]
    },
    {
      "cell_type": "code",
      "execution_count": 7,
      "metadata": {
        "id": "q9YgYP1c-XMM"
      },
      "outputs": [
        {
          "data": {
            "text/html": [
              "<div>\n",
              "<style scoped>\n",
              "    .dataframe tbody tr th:only-of-type {\n",
              "        vertical-align: middle;\n",
              "    }\n",
              "\n",
              "    .dataframe tbody tr th {\n",
              "        vertical-align: top;\n",
              "    }\n",
              "\n",
              "    .dataframe thead th {\n",
              "        text-align: right;\n",
              "    }\n",
              "</style>\n",
              "<table border=\"1\" class=\"dataframe\">\n",
              "  <thead>\n",
              "    <tr style=\"text-align: right;\">\n",
              "      <th>Exer</th>\n",
              "      <th>None</th>\n",
              "      <th>Some</th>\n",
              "      <th>Freq</th>\n",
              "    </tr>\n",
              "    <tr>\n",
              "      <th>Smoke</th>\n",
              "      <th></th>\n",
              "      <th></th>\n",
              "      <th></th>\n",
              "    </tr>\n",
              "  </thead>\n",
              "  <tbody>\n",
              "    <tr>\n",
              "      <th>Never</th>\n",
              "      <td>18</td>\n",
              "      <td>84</td>\n",
              "      <td>87</td>\n",
              "    </tr>\n",
              "    <tr>\n",
              "      <th>Occas</th>\n",
              "      <td>3</td>\n",
              "      <td>4</td>\n",
              "      <td>12</td>\n",
              "    </tr>\n",
              "    <tr>\n",
              "      <th>Regul</th>\n",
              "      <td>1</td>\n",
              "      <td>7</td>\n",
              "      <td>9</td>\n",
              "    </tr>\n",
              "    <tr>\n",
              "      <th>Heavy</th>\n",
              "      <td>1</td>\n",
              "      <td>3</td>\n",
              "      <td>7</td>\n",
              "    </tr>\n",
              "  </tbody>\n",
              "</table>\n",
              "</div>"
            ],
            "text/plain": [
              "Exer   None  Some  Freq\n",
              "Smoke                  \n",
              "Never    18    84    87\n",
              "Occas     3     4    12\n",
              "Regul     1     7     9\n",
              "Heavy     1     3     7"
            ]
          },
          "execution_count": 7,
          "metadata": {},
          "output_type": "execute_result"
        }
      ],
      "source": [
        "exer_smoke = pd.crosstab(survey.Smoke, survey.Exer)\n",
        "exer_smoke"
      ]
    },
    {
      "cell_type": "code",
      "execution_count": 8,
      "metadata": {
        "id": "HtyVSJPx4JMk"
      },
      "outputs": [
        {
          "data": {
            "image/png": "[encoded data removed]",
            "text/plain": [
              "<Figure size 640x480 with 3 Axes>"
            ]
          },
          "metadata": {},
          "output_type": "display_data"
        }
      ],
      "source": [
        "mosaic(data=survey, index=['Exer','Smoke']);"
      ]
    },
    {
      "cell_type": "code",
      "execution_count": 9,
      "metadata": {
        "id": "1ndNnGy46Acx"
      },
      "outputs": [
        {
          "data": {
            "text/plain": [
              "(np.float64(5.488545890584233),\n",
              " np.float64(0.48284216946545644),\n",
              " 6,\n",
              " array([[18.41949153, 78.48305085, 92.09745763],\n",
              "        [ 1.85169492,  7.88983051,  9.25847458],\n",
              "        [ 1.65677966,  7.05932203,  8.28389831],\n",
              "        [ 1.0720339 ,  4.56779661,  5.36016949]]))"
            ]
          },
          "execution_count": 9,
          "metadata": {},
          "output_type": "execute_result"
        }
      ],
      "source": [
        "chi2, p, df, expected = stats.chi2_contingency(exer_smoke)\n",
        "\n",
        "chi2, p, df, expected #Geen verband!"
      ]
    },
    {
      "cell_type": "code",
      "execution_count": 10,
      "metadata": {},
      "outputs": [
        {
          "name": "stdout",
          "output_type": "stream",
          "text": [
            "Critical value     : 12.5916\n"
          ]
        }
      ],
      "source": [
        "g = stats.chi2.isf(0.05, df = df)\n",
        "print(\"Critical value     : %.4f\" % g)\n",
        "#NOTE geen reden om H0 te verwerpen"
      ]
    },
    {
      "cell_type": "markdown",
      "metadata": {
        "id": "qXTX5yIAfDey"
      },
      "source": [
        "W.Hnd/Fold: χ² ≈ 1.581, g ≈ 5.992, p ≈ 0.454"
      ]
    },
    {
      "cell_type": "code",
      "execution_count": 20,
      "metadata": {
        "id": "m8bhQxol-dw9"
      },
      "outputs": [
        {
          "data": {
            "text/html": [
              "<div>\n",
              "<style scoped>\n",
              "    .dataframe tbody tr th:only-of-type {\n",
              "        vertical-align: middle;\n",
              "    }\n",
              "\n",
              "    .dataframe tbody tr th {\n",
              "        vertical-align: top;\n",
              "    }\n",
              "\n",
              "    .dataframe thead th {\n",
              "        text-align: right;\n",
              "    }\n",
              "</style>\n",
              "<table border=\"1\" class=\"dataframe\">\n",
              "  <thead>\n",
              "    <tr style=\"text-align: right;\">\n",
              "      <th>Fold</th>\n",
              "      <th>L on R</th>\n",
              "      <th>Neither</th>\n",
              "      <th>R on L</th>\n",
              "    </tr>\n",
              "    <tr>\n",
              "      <th>W.Hnd</th>\n",
              "      <th></th>\n",
              "      <th></th>\n",
              "      <th></th>\n",
              "    </tr>\n",
              "  </thead>\n",
              "  <tbody>\n",
              "    <tr>\n",
              "      <th>Left</th>\n",
              "      <td>10</td>\n",
              "      <td>1</td>\n",
              "      <td>7</td>\n",
              "    </tr>\n",
              "    <tr>\n",
              "      <th>Right</th>\n",
              "      <td>88</td>\n",
              "      <td>17</td>\n",
              "      <td>113</td>\n",
              "    </tr>\n",
              "  </tbody>\n",
              "</table>\n",
              "</div>"
            ],
            "text/plain": [
              "Fold   L on R  Neither  R on L\n",
              "W.Hnd                         \n",
              "Left       10        1       7\n",
              "Right      88       17     113"
            ]
          },
          "execution_count": 20,
          "metadata": {},
          "output_type": "execute_result"
        }
      ],
      "source": [
        "whnd_fold = pd.crosstab(survey[\"W.Hnd\"], survey[\"Fold\"])\n",
        "whnd_fold"
      ]
    },
    {
      "cell_type": "code",
      "execution_count": 23,
      "metadata": {},
      "outputs": [
        {
          "name": "stdout",
          "output_type": "stream",
          "text": [
            "Chi-squared        χ² = 1.5814\n",
            "Critical value      g = 5.9915\n",
            "p-value             p = 0.4535\n"
          ]
        }
      ],
      "source": [
        "chi2, p, df, expected = stats.chi2_contingency(whnd_fold)\n",
        "\n",
        "g = stats.chi2.isf(0.05, df = df)\n",
        "\n",
        "\n",
        "print(\"Chi-squared        χ² = %.4f\" % chi2)\n",
        "print(\"Critical value      g = %.4f\" % g)\n",
        "print(\"p-value             p = %.4f\" % p) # groter dan alpha dus niet verwerpen"
      ]
    },
    {
      "cell_type": "markdown",
      "metadata": {
        "id": "P_--fDpVfGB7"
      },
      "source": [
        "Sex/Smoke: χ² ≈ 3.554, g ≈ 7.815, p ≈ 0.314"
      ]
    },
    {
      "cell_type": "code",
      "execution_count": 22,
      "metadata": {
        "id": "Y81QYdd4-d51"
      },
      "outputs": [
        {
          "data": {
            "text/html": [
              "<div>\n",
              "<style scoped>\n",
              "    .dataframe tbody tr th:only-of-type {\n",
              "        vertical-align: middle;\n",
              "    }\n",
              "\n",
              "    .dataframe tbody tr th {\n",
              "        vertical-align: top;\n",
              "    }\n",
              "\n",
              "    .dataframe thead th {\n",
              "        text-align: right;\n",
              "    }\n",
              "</style>\n",
              "<table border=\"1\" class=\"dataframe\">\n",
              "  <thead>\n",
              "    <tr style=\"text-align: right;\">\n",
              "      <th>Smoke</th>\n",
              "      <th>Never</th>\n",
              "      <th>Occas</th>\n",
              "      <th>Regul</th>\n",
              "      <th>Heavy</th>\n",
              "    </tr>\n",
              "    <tr>\n",
              "      <th>Sex</th>\n",
              "      <th></th>\n",
              "      <th></th>\n",
              "      <th></th>\n",
              "      <th></th>\n",
              "    </tr>\n",
              "  </thead>\n",
              "  <tbody>\n",
              "    <tr>\n",
              "      <th>Female</th>\n",
              "      <td>99</td>\n",
              "      <td>9</td>\n",
              "      <td>5</td>\n",
              "      <td>5</td>\n",
              "    </tr>\n",
              "    <tr>\n",
              "      <th>Male</th>\n",
              "      <td>89</td>\n",
              "      <td>10</td>\n",
              "      <td>12</td>\n",
              "      <td>6</td>\n",
              "    </tr>\n",
              "  </tbody>\n",
              "</table>\n",
              "</div>"
            ],
            "text/plain": [
              "Smoke   Never  Occas  Regul  Heavy\n",
              "Sex                               \n",
              "Female     99      9      5      5\n",
              "Male       89     10     12      6"
            ]
          },
          "execution_count": 22,
          "metadata": {},
          "output_type": "execute_result"
        }
      ],
      "source": [
        "sex_smoke = pd.crosstab(survey[\"Sex\"], survey[\"Smoke\"])\n",
        "sex_smoke"
      ]
    },
    {
      "cell_type": "code",
      "execution_count": 24,
      "metadata": {},
      "outputs": [
        {
          "name": "stdout",
          "output_type": "stream",
          "text": [
            "Chi-squared        χ² = 3.5536\n",
            "Critical value      g = 7.8147\n",
            "p-value             p = 0.3139\n"
          ]
        }
      ],
      "source": [
        "chi2, p, df, expected = stats.chi2_contingency(sex_smoke)\n",
        "\n",
        "g = stats.chi2.isf(0.05, df = df)\n",
        "\n",
        "\n",
        "print(\"Chi-squared        χ² = %.4f\" % chi2)\n",
        "print(\"Critical value      g = %.4f\" % g)\n",
        "print(\"p-value             p = %.4f\" % p) # groter dan alpha dus niet verwerpen"
      ]
    },
    {
      "cell_type": "markdown",
      "metadata": {
        "id": "GBza24xKfPJ6"
      },
      "source": [
        "Sex/W.Hnd: χ² ≈ 0.236, g ≈ 3.842, p ≈ 0.627"
      ]
    },
    {
      "cell_type": "code",
      "execution_count": 25,
      "metadata": {
        "id": "nx8e1Rxo-eBE"
      },
      "outputs": [
        {
          "data": {
            "text/html": [
              "<div>\n",
              "<style scoped>\n",
              "    .dataframe tbody tr th:only-of-type {\n",
              "        vertical-align: middle;\n",
              "    }\n",
              "\n",
              "    .dataframe tbody tr th {\n",
              "        vertical-align: top;\n",
              "    }\n",
              "\n",
              "    .dataframe thead th {\n",
              "        text-align: right;\n",
              "    }\n",
              "</style>\n",
              "<table border=\"1\" class=\"dataframe\">\n",
              "  <thead>\n",
              "    <tr style=\"text-align: right;\">\n",
              "      <th>W.Hnd</th>\n",
              "      <th>Left</th>\n",
              "      <th>Right</th>\n",
              "    </tr>\n",
              "    <tr>\n",
              "      <th>Sex</th>\n",
              "      <th></th>\n",
              "      <th></th>\n",
              "    </tr>\n",
              "  </thead>\n",
              "  <tbody>\n",
              "    <tr>\n",
              "      <th>Female</th>\n",
              "      <td>7</td>\n",
              "      <td>110</td>\n",
              "    </tr>\n",
              "    <tr>\n",
              "      <th>Male</th>\n",
              "      <td>10</td>\n",
              "      <td>108</td>\n",
              "    </tr>\n",
              "  </tbody>\n",
              "</table>\n",
              "</div>"
            ],
            "text/plain": [
              "W.Hnd   Left  Right\n",
              "Sex                \n",
              "Female     7    110\n",
              "Male      10    108"
            ]
          },
          "execution_count": 25,
          "metadata": {},
          "output_type": "execute_result"
        }
      ],
      "source": [
        "sex_Whnd = pd.crosstab(survey[\"Sex\"], survey[\"W.Hnd\"])\n",
        "sex_Whnd"
      ]
    },
    {
      "cell_type": "code",
      "execution_count": 28,
      "metadata": {},
      "outputs": [
        {
          "name": "stdout",
          "output_type": "stream",
          "text": [
            "Chi-squared        χ² = 0.2356\n",
            "Critical value      g = 3.8415\n",
            "p-value             p = 0.6274\n"
          ]
        }
      ],
      "source": [
        "chi2, p, df, expected = stats.chi2_contingency(sex_Whnd)\n",
        "\n",
        "g = stats.chi2.isf(0.05, df = df)\n",
        "\n",
        "\n",
        "print(\"Chi-squared        χ² = %.4f\" % chi2)\n",
        "print(\"Critical value      g = %.4f\" % g)\n",
        "print(\"p-value             p = %.4f\" % p) # groter dan alpha dus niet verwerpen"
      ]
    }
  ],
  "metadata": {
    "colab": {
      "collapsed_sections": [],
      "name": "labs-chi-squared.ipynb",
      "provenance": []
    },
    "kernelspec": {
      "display_name": "Python 3",
      "language": "python",
      "name": "python3"
    },
    "language_info": {
      "codemirror_mode": {
        "name": "ipython",
        "version": 3
      },
      "file_extension": ".py",
      "mimetype": "text/x-python",
      "name": "python",
      "nbconvert_exporter": "python",
      "pygments_lexer": "ipython3",
      "version": "3.9.6"
    },
    "orig_nbformat": 4
  },
  "nbformat": 4,
  "nbformat_minor": 0
}
