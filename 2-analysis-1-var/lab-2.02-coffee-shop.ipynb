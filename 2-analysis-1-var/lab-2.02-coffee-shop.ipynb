{
  "cells": [
    {
      "cell_type": "markdown",
      "metadata": {
        "id": "dYTxJWJG5miJ"
      },
      "source": [
        "# Lab 2.02 - Univariate Analysis\n"
      ]
    },
    {
      "cell_type": "code",
      "execution_count": 1,
      "metadata": {
        "id": "MvwMKfrI8X-p"
      },
      "outputs": [],
      "source": [
        "# Importing the necessary packages\n",
        "import numpy as np                                  # \"Scientific computing\"\n",
        "import scipy.stats as stats                         # Statistical tests\n",
        "\n",
        "import pandas as pd                                 # Data Frame\n",
        "from pandas.api.types import CategoricalDtype\n",
        "\n",
        "import matplotlib.pyplot as plt                     # Basic visualisation\n",
        "from statsmodels.graphics.mosaicplot import mosaic  # Mosaic diagram\n",
        "import seaborn as sns                               # Advanced data visualisation"
      ]
    },
    {
      "cell_type": "markdown",
      "metadata": {
        "id": "ISZtcLRc8qHI"
      },
      "source": [
        "## Exercise 2\n",
        "\n",
        "The length of time, in minutes, that customers spend in a coffee shop is recorded. Calculate the following statistics:\n",
        "\n",
        "- Median\n",
        "- Range\n",
        "- Quartiles\n",
        "- Interquartile range\n",
        "\n",
        "Source: Complete Probability & Statistics 1 for Cambridge International As & A Level"
      ]
    },
    {
      "cell_type": "code",
      "execution_count": 4,
      "metadata": {
        "colab": {
          "base_uri": "https://localhost:8080/"
        },
        "id": "BntQ7l2L83tu",
        "outputId": "6fd7374e-5c0b-482f-9baa-5d704eb8a44c"
      },
      "outputs": [
        {
          "name": "stdout",
          "output_type": "stream",
          "text": [
            "Median:               19.5\n",
            "Percentiles           [0.0, 0.25, 0.5, 0.75, 1.0]\n",
            "[ 8.   14.   19.5  31.75 43.  ]\n",
            "Inter Quartile Range: 17.75\n",
            "Range :               35\n"
          ]
        }
      ],
      "source": [
        "times = np.array([17, 15, 9, 31, 33, 41, 8, 14, 13, 22, 27, 43, 32, 14])\n",
        "\n",
        "print(f\"Median:               {np.median(times)}\")\n",
        "percentiles = [0.0, 0.25, 0.5, 0.75, 1.0]\n",
        "print(f\"Percentiles           {percentiles}\\n{np.quantile(times, percentiles)}\" )\n",
        "print(f\"Inter Quartile Range: {stats.iqr(times)}\")\n",
        "print(f\"Range :               {times.max() - times.min()}\")\n"
      ]
    }
  ],
  "metadata": {
    "colab": {
      "provenance": []
    },
    "gpuClass": "standard",
    "kernelspec": {
      "display_name": "Python 3",
      "name": "python3"
    },
    "language_info": {
      "codemirror_mode": {
        "name": "ipython",
        "version": 3
      },
      "file_extension": ".py",
      "mimetype": "text/x-python",
      "name": "python",
      "nbconvert_exporter": "python",
      "pygments_lexer": "ipython3",
      "version": "3.9.6"
    },
    "orig_nbformat": 4
  },
  "nbformat": 4,
  "nbformat_minor": 0
}
