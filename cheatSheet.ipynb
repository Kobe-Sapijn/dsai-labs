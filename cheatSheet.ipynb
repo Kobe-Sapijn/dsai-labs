{
 "cells": [
  {
   "cell_type": "markdown",
   "id": "082bbec9",
   "metadata": {},
   "source": [
    "## Packages installeren"
   ]
  },
  {
   "cell_type": "code",
   "execution_count": null,
   "id": "3776bc48",
   "metadata": {},
   "outputs": [],
   "source": [
    "%pip install matplotlib\n",
    "%pip install numpy\n",
    "%pip install pandas\n",
    "%pip install scipy\n",
    "%pip install seaborn\n",
    "%pip install scikit-learn\n",
    "%pip install statsmodels"
   ]
  },
  {
   "cell_type": "markdown",
   "id": "d58c98f0",
   "metadata": {},
   "source": [
    "## Packages importen"
   ]
  },
  {
   "cell_type": "code",
   "execution_count": 2,
   "id": "0c88970e",
   "metadata": {},
   "outputs": [],
   "source": [
    "# Importing the necessary packages\n",
    "import numpy as np                                  # \"Scientific computing\"\n",
    "import scipy.stats as stats                         # Statistical tests\n",
    "\n",
    "import pandas as pd                                 # Data Frame\n",
    "from pandas.api.types import CategoricalDtype\n",
    "\n",
    "import matplotlib.pyplot as plt                     # Basic visualisation\n",
    "from statsmodels.graphics.mosaicplot import mosaic  # Mosaic diagram\n",
    "import seaborn as sns                               # Advanced data visualisation"
   ]
  },
  {
   "cell_type": "markdown",
   "id": "32ca1d31",
   "metadata": {},
   "source": [
    "## Data importen"
   ]
  },
  {
   "cell_type": "code",
   "execution_count": null,
   "id": "7b3dbb0b",
   "metadata": {},
   "outputs": [],
   "source": [
    "# Importing the Titanic dataset. (Rajagopalan, 2021, p. 106)\n",
    "titanic = pd.read_csv('https://raw.githubusercontent.com/DataRepo2019/Data-files/master/titanic.csv')\n",
    "\n",
    "titanic = pd.read_csv('../data/titanic.csv')\n",
    "# Show the first few records of the Data Frame\n",
    "titanic.head()"
   ]
  },
  {
   "cell_type": "code",
   "execution_count": null,
   "id": "2bf8e07b",
   "metadata": {},
   "outputs": [],
   "source": [
    "# Array definieren\n",
    "lengths = np.array([23,234,235,245,3535,535,24,45,535,4])\n",
    "# OF\n",
    "saves = pd.Series([34,546,43,6465,34,464,4346,43,543,464,554,546,40])\n",
    "#Er zijn verschillen!!!! "
   ]
  },
  {
   "cell_type": "markdown",
   "id": "1bd4d46d",
   "metadata": {},
   "source": [
    "verschillen bv bij std moet je ddof=1 meegeven bij np voor steekproef !!"
   ]
  },
  {
   "cell_type": "code",
   "execution_count": null,
   "id": "1db57932",
   "metadata": {},
   "outputs": [
    {
     "data": {
      "text/plain": [
       "np.float64(1086.3076923076924)"
      ]
     },
     "execution_count": 8,
     "metadata": {},
     "output_type": "execute_result"
    }
   ],
   "source": [
    "# Gemiddelde berekenen\n",
    "lengths.mean()"
   ]
  }
 ],
 "metadata": {
  "kernelspec": {
   "display_name": "Python 3",
   "language": "python",
   "name": "python3"
  },
  "language_info": {
   "codemirror_mode": {
    "name": "ipython",
    "version": 3
   },
   "file_extension": ".py",
   "mimetype": "text/x-python",
   "name": "python",
   "nbconvert_exporter": "python",
   "pygments_lexer": "ipython3",
   "version": "3.9.6"
  }
 },
 "nbformat": 4,
 "nbformat_minor": 5
}
